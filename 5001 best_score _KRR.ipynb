{
 "cells": [
  {
   "cell_type": "code",
   "execution_count": 11,
   "metadata": {},
   "outputs": [],
   "source": [
    "import numpy as np\n",
    "import pandas as pd\n",
    "import seaborn as sns\n",
    "import csv\n",
    "from sklearn.model_selection import train_test_split\n",
    "import matplotlib.pyplot as plt \n",
    "from sklearn.preprocessing import StandardScaler\n",
    "from sklearn.metrics import accuracy_score,confusion_matrix\n",
    "from IPython.core.interactiveshell import InteractiveShell \n",
    "import math\n",
    "InteractiveShell.ast_node_interactivity = \"all\""
   ]
  },
  {
   "cell_type": "code",
   "execution_count": 12,
   "metadata": {
    "scrolled": true
   },
   "outputs": [
    {
     "name": "stdout",
     "output_type": "stream",
     "text": [
      "=====load dataset=====\n",
      "<class 'pandas.core.frame.DataFrame'>\n",
      "RangeIndex: 400 entries, 0 to 399\n",
      "Data columns (total 15 columns):\n",
      "id                      400 non-null int64\n",
      "penalty                 400 non-null object\n",
      "l1_ratio                400 non-null float64\n",
      "alpha                   400 non-null float64\n",
      "max_iter                400 non-null int64\n",
      "random_state            400 non-null int64\n",
      "n_jobs                  400 non-null int64\n",
      "n_samples               400 non-null int64\n",
      "n_features              400 non-null int64\n",
      "n_classes               400 non-null int64\n",
      "n_clusters_per_class    400 non-null int64\n",
      "n_informative           400 non-null int64\n",
      "flip_y                  400 non-null float64\n",
      "scale                   400 non-null float64\n",
      "time                    400 non-null float64\n",
      "dtypes: float64(5), int64(9), object(1)\n",
      "memory usage: 47.0+ KB\n"
     ]
    },
    {
     "data": {
      "text/plain": [
       "(400, 15)"
      ]
     },
     "execution_count": 12,
     "metadata": {},
     "output_type": "execute_result"
    },
    {
     "data": {
      "text/html": [
       "<div>\n",
       "<style scoped>\n",
       "    .dataframe tbody tr th:only-of-type {\n",
       "        vertical-align: middle;\n",
       "    }\n",
       "\n",
       "    .dataframe tbody tr th {\n",
       "        vertical-align: top;\n",
       "    }\n",
       "\n",
       "    .dataframe thead th {\n",
       "        text-align: right;\n",
       "    }\n",
       "</style>\n",
       "<table border=\"1\" class=\"dataframe\">\n",
       "  <thead>\n",
       "    <tr style=\"text-align: right;\">\n",
       "      <th></th>\n",
       "      <th>id</th>\n",
       "      <th>l1_ratio</th>\n",
       "      <th>alpha</th>\n",
       "      <th>max_iter</th>\n",
       "      <th>random_state</th>\n",
       "      <th>n_jobs</th>\n",
       "      <th>n_samples</th>\n",
       "      <th>n_features</th>\n",
       "      <th>n_classes</th>\n",
       "      <th>n_clusters_per_class</th>\n",
       "      <th>n_informative</th>\n",
       "      <th>flip_y</th>\n",
       "      <th>scale</th>\n",
       "      <th>time</th>\n",
       "    </tr>\n",
       "  </thead>\n",
       "  <tbody>\n",
       "    <tr>\n",
       "      <th>count</th>\n",
       "      <td>400.000000</td>\n",
       "      <td>400.000000</td>\n",
       "      <td>400.000000</td>\n",
       "      <td>400.000000</td>\n",
       "      <td>400.00000</td>\n",
       "      <td>400.000000</td>\n",
       "      <td>400.000000</td>\n",
       "      <td>400.000000</td>\n",
       "      <td>400.000000</td>\n",
       "      <td>400.000000</td>\n",
       "      <td>400.000000</td>\n",
       "      <td>400.000000</td>\n",
       "      <td>400.000000</td>\n",
       "      <td>400.000000</td>\n",
       "    </tr>\n",
       "    <tr>\n",
       "      <th>mean</th>\n",
       "      <td>199.500000</td>\n",
       "      <td>0.502687</td>\n",
       "      <td>0.003725</td>\n",
       "      <td>555.510000</td>\n",
       "      <td>489.21000</td>\n",
       "      <td>2.810000</td>\n",
       "      <td>756.210000</td>\n",
       "      <td>766.145000</td>\n",
       "      <td>5.855000</td>\n",
       "      <td>3.457500</td>\n",
       "      <td>8.675000</td>\n",
       "      <td>0.048519</td>\n",
       "      <td>50.339018</td>\n",
       "      <td>3.202330</td>\n",
       "    </tr>\n",
       "    <tr>\n",
       "      <th>std</th>\n",
       "      <td>115.614301</td>\n",
       "      <td>0.232231</td>\n",
       "      <td>0.004475</td>\n",
       "      <td>265.000042</td>\n",
       "      <td>287.45622</td>\n",
       "      <td>2.951386</td>\n",
       "      <td>373.326402</td>\n",
       "      <td>375.214116</td>\n",
       "      <td>2.492892</td>\n",
       "      <td>1.100555</td>\n",
       "      <td>1.521566</td>\n",
       "      <td>0.030369</td>\n",
       "      <td>28.992873</td>\n",
       "      <td>5.265786</td>\n",
       "    </tr>\n",
       "    <tr>\n",
       "      <th>min</th>\n",
       "      <td>0.000000</td>\n",
       "      <td>0.100356</td>\n",
       "      <td>0.000100</td>\n",
       "      <td>103.000000</td>\n",
       "      <td>0.00000</td>\n",
       "      <td>-1.000000</td>\n",
       "      <td>100.000000</td>\n",
       "      <td>110.000000</td>\n",
       "      <td>2.000000</td>\n",
       "      <td>2.000000</td>\n",
       "      <td>5.000000</td>\n",
       "      <td>0.000047</td>\n",
       "      <td>1.527627</td>\n",
       "      <td>0.075342</td>\n",
       "    </tr>\n",
       "    <tr>\n",
       "      <th>25%</th>\n",
       "      <td>99.750000</td>\n",
       "      <td>0.299859</td>\n",
       "      <td>0.000100</td>\n",
       "      <td>333.250000</td>\n",
       "      <td>232.25000</td>\n",
       "      <td>1.000000</td>\n",
       "      <td>451.500000</td>\n",
       "      <td>439.750000</td>\n",
       "      <td>4.000000</td>\n",
       "      <td>3.000000</td>\n",
       "      <td>8.000000</td>\n",
       "      <td>0.020567</td>\n",
       "      <td>25.230494</td>\n",
       "      <td>0.504478</td>\n",
       "    </tr>\n",
       "    <tr>\n",
       "      <th>50%</th>\n",
       "      <td>199.500000</td>\n",
       "      <td>0.491566</td>\n",
       "      <td>0.001000</td>\n",
       "      <td>532.000000</td>\n",
       "      <td>499.00000</td>\n",
       "      <td>2.000000</td>\n",
       "      <td>748.000000</td>\n",
       "      <td>774.000000</td>\n",
       "      <td>6.000000</td>\n",
       "      <td>3.000000</td>\n",
       "      <td>9.000000</td>\n",
       "      <td>0.046995</td>\n",
       "      <td>51.629863</td>\n",
       "      <td>1.405072</td>\n",
       "    </tr>\n",
       "    <tr>\n",
       "      <th>75%</th>\n",
       "      <td>299.250000</td>\n",
       "      <td>0.704260</td>\n",
       "      <td>0.010000</td>\n",
       "      <td>787.250000</td>\n",
       "      <td>728.00000</td>\n",
       "      <td>4.000000</td>\n",
       "      <td>1065.750000</td>\n",
       "      <td>1088.500000</td>\n",
       "      <td>8.000000</td>\n",
       "      <td>4.000000</td>\n",
       "      <td>10.000000</td>\n",
       "      <td>0.074997</td>\n",
       "      <td>74.948272</td>\n",
       "      <td>3.628776</td>\n",
       "    </tr>\n",
       "    <tr>\n",
       "      <th>max</th>\n",
       "      <td>399.000000</td>\n",
       "      <td>0.895220</td>\n",
       "      <td>0.010000</td>\n",
       "      <td>998.000000</td>\n",
       "      <td>1000.00000</td>\n",
       "      <td>8.000000</td>\n",
       "      <td>1397.000000</td>\n",
       "      <td>1397.000000</td>\n",
       "      <td>10.000000</td>\n",
       "      <td>5.000000</td>\n",
       "      <td>12.000000</td>\n",
       "      <td>0.099866</td>\n",
       "      <td>99.748437</td>\n",
       "      <td>41.099969</td>\n",
       "    </tr>\n",
       "  </tbody>\n",
       "</table>\n",
       "</div>"
      ],
      "text/plain": [
       "               id    l1_ratio       alpha    max_iter  random_state  \\\n",
       "count  400.000000  400.000000  400.000000  400.000000     400.00000   \n",
       "mean   199.500000    0.502687    0.003725  555.510000     489.21000   \n",
       "std    115.614301    0.232231    0.004475  265.000042     287.45622   \n",
       "min      0.000000    0.100356    0.000100  103.000000       0.00000   \n",
       "25%     99.750000    0.299859    0.000100  333.250000     232.25000   \n",
       "50%    199.500000    0.491566    0.001000  532.000000     499.00000   \n",
       "75%    299.250000    0.704260    0.010000  787.250000     728.00000   \n",
       "max    399.000000    0.895220    0.010000  998.000000    1000.00000   \n",
       "\n",
       "           n_jobs    n_samples   n_features   n_classes  n_clusters_per_class  \\\n",
       "count  400.000000   400.000000   400.000000  400.000000            400.000000   \n",
       "mean     2.810000   756.210000   766.145000    5.855000              3.457500   \n",
       "std      2.951386   373.326402   375.214116    2.492892              1.100555   \n",
       "min     -1.000000   100.000000   110.000000    2.000000              2.000000   \n",
       "25%      1.000000   451.500000   439.750000    4.000000              3.000000   \n",
       "50%      2.000000   748.000000   774.000000    6.000000              3.000000   \n",
       "75%      4.000000  1065.750000  1088.500000    8.000000              4.000000   \n",
       "max      8.000000  1397.000000  1397.000000   10.000000              5.000000   \n",
       "\n",
       "       n_informative      flip_y       scale        time  \n",
       "count     400.000000  400.000000  400.000000  400.000000  \n",
       "mean        8.675000    0.048519   50.339018    3.202330  \n",
       "std         1.521566    0.030369   28.992873    5.265786  \n",
       "min         5.000000    0.000047    1.527627    0.075342  \n",
       "25%         8.000000    0.020567   25.230494    0.504478  \n",
       "50%         9.000000    0.046995   51.629863    1.405072  \n",
       "75%        10.000000    0.074997   74.948272    3.628776  \n",
       "max        12.000000    0.099866   99.748437   41.099969  "
      ]
     },
     "execution_count": 12,
     "metadata": {},
     "output_type": "execute_result"
    },
    {
     "name": "stdout",
     "output_type": "stream",
     "text": [
      "<class 'pandas.core.frame.DataFrame'>\n",
      "RangeIndex: 100 entries, 0 to 99\n",
      "Data columns (total 14 columns):\n",
      "id                      100 non-null int64\n",
      "penalty                 100 non-null object\n",
      "l1_ratio                100 non-null float64\n",
      "alpha                   100 non-null float64\n",
      "max_iter                100 non-null int64\n",
      "random_state            100 non-null int64\n",
      "n_jobs                  100 non-null int64\n",
      "n_samples               100 non-null int64\n",
      "n_features              100 non-null int64\n",
      "n_classes               100 non-null int64\n",
      "n_clusters_per_class    100 non-null int64\n",
      "n_informative           100 non-null int64\n",
      "flip_y                  100 non-null float64\n",
      "scale                   100 non-null float64\n",
      "dtypes: float64(4), int64(9), object(1)\n",
      "memory usage: 11.0+ KB\n"
     ]
    },
    {
     "data": {
      "text/html": [
       "<div>\n",
       "<style scoped>\n",
       "    .dataframe tbody tr th:only-of-type {\n",
       "        vertical-align: middle;\n",
       "    }\n",
       "\n",
       "    .dataframe tbody tr th {\n",
       "        vertical-align: top;\n",
       "    }\n",
       "\n",
       "    .dataframe thead th {\n",
       "        text-align: right;\n",
       "    }\n",
       "</style>\n",
       "<table border=\"1\" class=\"dataframe\">\n",
       "  <thead>\n",
       "    <tr style=\"text-align: right;\">\n",
       "      <th></th>\n",
       "      <th>id</th>\n",
       "      <th>penalty</th>\n",
       "      <th>l1_ratio</th>\n",
       "      <th>alpha</th>\n",
       "      <th>max_iter</th>\n",
       "      <th>random_state</th>\n",
       "      <th>n_jobs</th>\n",
       "      <th>n_samples</th>\n",
       "      <th>n_features</th>\n",
       "      <th>n_classes</th>\n",
       "      <th>n_clusters_per_class</th>\n",
       "      <th>n_informative</th>\n",
       "      <th>flip_y</th>\n",
       "      <th>scale</th>\n",
       "    </tr>\n",
       "  </thead>\n",
       "  <tbody>\n",
       "    <tr>\n",
       "      <th>0</th>\n",
       "      <td>0</td>\n",
       "      <td>l2</td>\n",
       "      <td>0.690384</td>\n",
       "      <td>0.001</td>\n",
       "      <td>602</td>\n",
       "      <td>890</td>\n",
       "      <td>4</td>\n",
       "      <td>1376</td>\n",
       "      <td>1078</td>\n",
       "      <td>3</td>\n",
       "      <td>4</td>\n",
       "      <td>8</td>\n",
       "      <td>0.049072</td>\n",
       "      <td>40.832757</td>\n",
       "    </tr>\n",
       "    <tr>\n",
       "      <th>1</th>\n",
       "      <td>1</td>\n",
       "      <td>elasticnet</td>\n",
       "      <td>0.215088</td>\n",
       "      <td>0.001</td>\n",
       "      <td>522</td>\n",
       "      <td>357</td>\n",
       "      <td>4</td>\n",
       "      <td>598</td>\n",
       "      <td>1528</td>\n",
       "      <td>10</td>\n",
       "      <td>3</td>\n",
       "      <td>11</td>\n",
       "      <td>0.041393</td>\n",
       "      <td>68.611537</td>\n",
       "    </tr>\n",
       "    <tr>\n",
       "      <th>2</th>\n",
       "      <td>2</td>\n",
       "      <td>l2</td>\n",
       "      <td>0.217458</td>\n",
       "      <td>0.001</td>\n",
       "      <td>398</td>\n",
       "      <td>105</td>\n",
       "      <td>16</td>\n",
       "      <td>553</td>\n",
       "      <td>1008</td>\n",
       "      <td>8</td>\n",
       "      <td>5</td>\n",
       "      <td>8</td>\n",
       "      <td>0.005987</td>\n",
       "      <td>61.713892</td>\n",
       "    </tr>\n",
       "    <tr>\n",
       "      <th>3</th>\n",
       "      <td>3</td>\n",
       "      <td>none</td>\n",
       "      <td>0.120303</td>\n",
       "      <td>0.001</td>\n",
       "      <td>439</td>\n",
       "      <td>586</td>\n",
       "      <td>16</td>\n",
       "      <td>1977</td>\n",
       "      <td>1319</td>\n",
       "      <td>3</td>\n",
       "      <td>4</td>\n",
       "      <td>10</td>\n",
       "      <td>0.002964</td>\n",
       "      <td>58.631194</td>\n",
       "    </tr>\n",
       "    <tr>\n",
       "      <th>4</th>\n",
       "      <td>4</td>\n",
       "      <td>none</td>\n",
       "      <td>0.458851</td>\n",
       "      <td>0.010</td>\n",
       "      <td>278</td>\n",
       "      <td>246</td>\n",
       "      <td>4</td>\n",
       "      <td>1826</td>\n",
       "      <td>1530</td>\n",
       "      <td>7</td>\n",
       "      <td>5</td>\n",
       "      <td>8</td>\n",
       "      <td>0.050126</td>\n",
       "      <td>87.315374</td>\n",
       "    </tr>\n",
       "  </tbody>\n",
       "</table>\n",
       "</div>"
      ],
      "text/plain": [
       "   id     penalty  l1_ratio  alpha  max_iter  random_state  n_jobs  n_samples  \\\n",
       "0   0          l2  0.690384  0.001       602           890       4       1376   \n",
       "1   1  elasticnet  0.215088  0.001       522           357       4        598   \n",
       "2   2          l2  0.217458  0.001       398           105      16        553   \n",
       "3   3        none  0.120303  0.001       439           586      16       1977   \n",
       "4   4        none  0.458851  0.010       278           246       4       1826   \n",
       "\n",
       "   n_features  n_classes  n_clusters_per_class  n_informative    flip_y  \\\n",
       "0        1078          3                     4              8  0.049072   \n",
       "1        1528         10                     3             11  0.041393   \n",
       "2        1008          8                     5              8  0.005987   \n",
       "3        1319          3                     4             10  0.002964   \n",
       "4        1530          7                     5              8  0.050126   \n",
       "\n",
       "       scale  \n",
       "0  40.832757  \n",
       "1  68.611537  \n",
       "2  61.713892  \n",
       "3  58.631194  \n",
       "4  87.315374  "
      ]
     },
     "execution_count": 12,
     "metadata": {},
     "output_type": "execute_result"
    },
    {
     "data": {
      "text/plain": [
       "(100, 14)"
      ]
     },
     "execution_count": 12,
     "metadata": {},
     "output_type": "execute_result"
    }
   ],
   "source": [
    "print('=====load dataset=====')\n",
    "train_set=pd.read_csv('D:\\\\18\\\\bdt\\\\5001\\\\personal project\\\\data\\\\train.csv',header='infer')\n",
    "test_set=pd.read_csv('D:\\\\18\\\\bdt\\\\5001\\\\personal project\\\\data\\\\test.csv',header='infer')\n",
    "\n",
    "train_set.info()\n",
    "train_set.shape\n",
    "train_set.describe()\n",
    "test_set.info()\n",
    "test_set.head()\n",
    "test_set.shape"
   ]
  },
  {
   "cell_type": "code",
   "execution_count": 13,
   "metadata": {
    "scrolled": true
   },
   "outputs": [
    {
     "data": {
      "text/html": [
       "<div>\n",
       "<style scoped>\n",
       "    .dataframe tbody tr th:only-of-type {\n",
       "        vertical-align: middle;\n",
       "    }\n",
       "\n",
       "    .dataframe tbody tr th {\n",
       "        vertical-align: top;\n",
       "    }\n",
       "\n",
       "    .dataframe thead th {\n",
       "        text-align: right;\n",
       "    }\n",
       "</style>\n",
       "<table border=\"1\" class=\"dataframe\">\n",
       "  <thead>\n",
       "    <tr style=\"text-align: right;\">\n",
       "      <th></th>\n",
       "      <th>id</th>\n",
       "      <th>l1_ratio</th>\n",
       "      <th>alpha</th>\n",
       "      <th>max_iter</th>\n",
       "      <th>random_state</th>\n",
       "      <th>n_jobs</th>\n",
       "      <th>n_samples</th>\n",
       "      <th>n_features</th>\n",
       "      <th>n_classes</th>\n",
       "      <th>n_clusters_per_class</th>\n",
       "      <th>n_informative</th>\n",
       "      <th>flip_y</th>\n",
       "      <th>scale</th>\n",
       "      <th>time</th>\n",
       "    </tr>\n",
       "  </thead>\n",
       "  <tbody>\n",
       "    <tr>\n",
       "      <th>count</th>\n",
       "      <td>400.000000</td>\n",
       "      <td>400.000000</td>\n",
       "      <td>400.000000</td>\n",
       "      <td>400.000000</td>\n",
       "      <td>400.00000</td>\n",
       "      <td>400.000000</td>\n",
       "      <td>400.000000</td>\n",
       "      <td>400.000000</td>\n",
       "      <td>400.000000</td>\n",
       "      <td>400.000000</td>\n",
       "      <td>400.000000</td>\n",
       "      <td>400.000000</td>\n",
       "      <td>400.000000</td>\n",
       "      <td>400.000000</td>\n",
       "    </tr>\n",
       "    <tr>\n",
       "      <th>mean</th>\n",
       "      <td>199.500000</td>\n",
       "      <td>0.502687</td>\n",
       "      <td>0.003725</td>\n",
       "      <td>555.510000</td>\n",
       "      <td>489.21000</td>\n",
       "      <td>2.810000</td>\n",
       "      <td>756.210000</td>\n",
       "      <td>766.145000</td>\n",
       "      <td>5.855000</td>\n",
       "      <td>3.457500</td>\n",
       "      <td>8.675000</td>\n",
       "      <td>0.048519</td>\n",
       "      <td>50.339018</td>\n",
       "      <td>3.202330</td>\n",
       "    </tr>\n",
       "    <tr>\n",
       "      <th>std</th>\n",
       "      <td>115.614301</td>\n",
       "      <td>0.232231</td>\n",
       "      <td>0.004475</td>\n",
       "      <td>265.000042</td>\n",
       "      <td>287.45622</td>\n",
       "      <td>2.951386</td>\n",
       "      <td>373.326402</td>\n",
       "      <td>375.214116</td>\n",
       "      <td>2.492892</td>\n",
       "      <td>1.100555</td>\n",
       "      <td>1.521566</td>\n",
       "      <td>0.030369</td>\n",
       "      <td>28.992873</td>\n",
       "      <td>5.265786</td>\n",
       "    </tr>\n",
       "    <tr>\n",
       "      <th>min</th>\n",
       "      <td>0.000000</td>\n",
       "      <td>0.100356</td>\n",
       "      <td>0.000100</td>\n",
       "      <td>103.000000</td>\n",
       "      <td>0.00000</td>\n",
       "      <td>-1.000000</td>\n",
       "      <td>100.000000</td>\n",
       "      <td>110.000000</td>\n",
       "      <td>2.000000</td>\n",
       "      <td>2.000000</td>\n",
       "      <td>5.000000</td>\n",
       "      <td>0.000047</td>\n",
       "      <td>1.527627</td>\n",
       "      <td>0.075342</td>\n",
       "    </tr>\n",
       "    <tr>\n",
       "      <th>25%</th>\n",
       "      <td>99.750000</td>\n",
       "      <td>0.299859</td>\n",
       "      <td>0.000100</td>\n",
       "      <td>333.250000</td>\n",
       "      <td>232.25000</td>\n",
       "      <td>1.000000</td>\n",
       "      <td>451.500000</td>\n",
       "      <td>439.750000</td>\n",
       "      <td>4.000000</td>\n",
       "      <td>3.000000</td>\n",
       "      <td>8.000000</td>\n",
       "      <td>0.020567</td>\n",
       "      <td>25.230494</td>\n",
       "      <td>0.504478</td>\n",
       "    </tr>\n",
       "    <tr>\n",
       "      <th>50%</th>\n",
       "      <td>199.500000</td>\n",
       "      <td>0.491566</td>\n",
       "      <td>0.001000</td>\n",
       "      <td>532.000000</td>\n",
       "      <td>499.00000</td>\n",
       "      <td>2.000000</td>\n",
       "      <td>748.000000</td>\n",
       "      <td>774.000000</td>\n",
       "      <td>6.000000</td>\n",
       "      <td>3.000000</td>\n",
       "      <td>9.000000</td>\n",
       "      <td>0.046995</td>\n",
       "      <td>51.629863</td>\n",
       "      <td>1.405072</td>\n",
       "    </tr>\n",
       "    <tr>\n",
       "      <th>75%</th>\n",
       "      <td>299.250000</td>\n",
       "      <td>0.704260</td>\n",
       "      <td>0.010000</td>\n",
       "      <td>787.250000</td>\n",
       "      <td>728.00000</td>\n",
       "      <td>4.000000</td>\n",
       "      <td>1065.750000</td>\n",
       "      <td>1088.500000</td>\n",
       "      <td>8.000000</td>\n",
       "      <td>4.000000</td>\n",
       "      <td>10.000000</td>\n",
       "      <td>0.074997</td>\n",
       "      <td>74.948272</td>\n",
       "      <td>3.628776</td>\n",
       "    </tr>\n",
       "    <tr>\n",
       "      <th>max</th>\n",
       "      <td>399.000000</td>\n",
       "      <td>0.895220</td>\n",
       "      <td>0.010000</td>\n",
       "      <td>998.000000</td>\n",
       "      <td>1000.00000</td>\n",
       "      <td>8.000000</td>\n",
       "      <td>1397.000000</td>\n",
       "      <td>1397.000000</td>\n",
       "      <td>10.000000</td>\n",
       "      <td>5.000000</td>\n",
       "      <td>12.000000</td>\n",
       "      <td>0.099866</td>\n",
       "      <td>99.748437</td>\n",
       "      <td>41.099969</td>\n",
       "    </tr>\n",
       "  </tbody>\n",
       "</table>\n",
       "</div>"
      ],
      "text/plain": [
       "               id    l1_ratio       alpha    max_iter  random_state  \\\n",
       "count  400.000000  400.000000  400.000000  400.000000     400.00000   \n",
       "mean   199.500000    0.502687    0.003725  555.510000     489.21000   \n",
       "std    115.614301    0.232231    0.004475  265.000042     287.45622   \n",
       "min      0.000000    0.100356    0.000100  103.000000       0.00000   \n",
       "25%     99.750000    0.299859    0.000100  333.250000     232.25000   \n",
       "50%    199.500000    0.491566    0.001000  532.000000     499.00000   \n",
       "75%    299.250000    0.704260    0.010000  787.250000     728.00000   \n",
       "max    399.000000    0.895220    0.010000  998.000000    1000.00000   \n",
       "\n",
       "           n_jobs    n_samples   n_features   n_classes  n_clusters_per_class  \\\n",
       "count  400.000000   400.000000   400.000000  400.000000            400.000000   \n",
       "mean     2.810000   756.210000   766.145000    5.855000              3.457500   \n",
       "std      2.951386   373.326402   375.214116    2.492892              1.100555   \n",
       "min     -1.000000   100.000000   110.000000    2.000000              2.000000   \n",
       "25%      1.000000   451.500000   439.750000    4.000000              3.000000   \n",
       "50%      2.000000   748.000000   774.000000    6.000000              3.000000   \n",
       "75%      4.000000  1065.750000  1088.500000    8.000000              4.000000   \n",
       "max      8.000000  1397.000000  1397.000000   10.000000              5.000000   \n",
       "\n",
       "       n_informative      flip_y       scale        time  \n",
       "count     400.000000  400.000000  400.000000  400.000000  \n",
       "mean        8.675000    0.048519   50.339018    3.202330  \n",
       "std         1.521566    0.030369   28.992873    5.265786  \n",
       "min         5.000000    0.000047    1.527627    0.075342  \n",
       "25%         8.000000    0.020567   25.230494    0.504478  \n",
       "50%         9.000000    0.046995   51.629863    1.405072  \n",
       "75%        10.000000    0.074997   74.948272    3.628776  \n",
       "max        12.000000    0.099866   99.748437   41.099969  "
      ]
     },
     "execution_count": 13,
     "metadata": {},
     "output_type": "execute_result"
    }
   ],
   "source": [
    "train_set.describe()\n"
   ]
  },
  {
   "cell_type": "markdown",
   "metadata": {},
   "source": [
    "# 删变量啦"
   ]
  },
  {
   "cell_type": "code",
   "execution_count": 14,
   "metadata": {
    "scrolled": true
   },
   "outputs": [
    {
     "data": {
      "text/plain": [
       "(100, 13)"
      ]
     },
     "execution_count": 14,
     "metadata": {},
     "output_type": "execute_result"
    },
    {
     "data": {
      "text/plain": [
       "(400, 13)"
      ]
     },
     "execution_count": 14,
     "metadata": {},
     "output_type": "execute_result"
    },
    {
     "data": {
      "text/plain": [
       "penalty                 0\n",
       "l1_ratio                0\n",
       "alpha                   0\n",
       "max_iter                0\n",
       "random_state            0\n",
       "n_jobs                  0\n",
       "n_samples               0\n",
       "n_features              0\n",
       "n_classes               0\n",
       "n_clusters_per_class    0\n",
       "n_informative           0\n",
       "flip_y                  0\n",
       "scale                   0\n",
       "dtype: int64"
      ]
     },
     "execution_count": 14,
     "metadata": {},
     "output_type": "execute_result"
    },
    {
     "data": {
      "text/plain": [
       "penalty                 0\n",
       "l1_ratio                0\n",
       "alpha                   0\n",
       "max_iter                0\n",
       "random_state            0\n",
       "n_jobs                  0\n",
       "n_samples               0\n",
       "n_features              0\n",
       "n_classes               0\n",
       "n_clusters_per_class    0\n",
       "n_informative           0\n",
       "flip_y                  0\n",
       "scale                   0\n",
       "dtype: int64"
      ]
     },
     "execution_count": 14,
     "metadata": {},
     "output_type": "execute_result"
    }
   ],
   "source": [
    "y=train_set['time'].copy()\n",
    "logy=np.log1p(y)\n",
    "train_set=train_set.drop(columns=['time'])\n",
    "train_set=train_set.drop(columns=['id'])\n",
    "#train_set=train_set.drop(columns=['n_jobs'])\n",
    "#train_set=train_set.drop(columns=['n_clusters_per_class'])\n",
    "ID=test_set['id']\n",
    "test_set=test_set.drop(columns=['id'])\n",
    "#test_set=test_set.drop(columns=['n_jobs'])\n",
    "#test_set=test_set.drop(columns=['n_clusters_per_class'])\n",
    "test_set.shape\n",
    "train_set.shape\n",
    "train_set.isnull().sum()  #### \n",
    "test_set.isnull().sum() ####similarly"
   ]
  },
  {
   "cell_type": "markdown",
   "metadata": {},
   "source": [
    "# 删变量 其他的"
   ]
  },
  {
   "cell_type": "code",
   "execution_count": 15,
   "metadata": {
    "scrolled": true
   },
   "outputs": [
    {
     "name": "stderr",
     "output_type": "stream",
     "text": [
      "C:\\Users\\Ashley\\Anaconda3\\envs\\tensorflow\\lib\\site-packages\\ipykernel_launcher.py:4: SettingWithCopyWarning: \n",
      "A value is trying to be set on a copy of a slice from a DataFrame\n",
      "\n",
      "See the caveats in the documentation: http://pandas.pydata.org/pandas-docs/stable/indexing.html#indexing-view-versus-copy\n",
      "  after removing the cwd from sys.path.\n",
      "C:\\Users\\Ashley\\Anaconda3\\envs\\tensorflow\\lib\\site-packages\\ipykernel_launcher.py:5: SettingWithCopyWarning: \n",
      "A value is trying to be set on a copy of a slice from a DataFrame\n",
      "\n",
      "See the caveats in the documentation: http://pandas.pydata.org/pandas-docs/stable/indexing.html#indexing-view-versus-copy\n",
      "  \"\"\"\n"
     ]
    }
   ],
   "source": [
    "####  n_job   -1  变16\n",
    "####random state  删掉\n",
    "###n_informative  删掉\n",
    "train_set.n_jobs[train_set.n_jobs ==-1] = 16\n",
    "test_set.n_jobs[test_set.n_jobs ==-1] = 16\n",
    "train_set=train_set.drop(columns=['random_state'])\n",
    "test_set=test_set.drop(columns=['random_state'])\n",
    "\n",
    "train_set=train_set.drop(columns=['n_informative'])\n",
    "test_set=test_set.drop(columns=['n_informative'])\n",
    "train_set=train_set.drop(columns=['l1_ratio'])\n",
    "test_set=test_set.drop(columns=['l1_ratio'])"
   ]
  },
  {
   "cell_type": "code",
   "execution_count": 16,
   "metadata": {},
   "outputs": [],
   "source": [
    "def sample(num):\n",
    "    if num>600:\n",
    "        return 1\n",
    "    else: \n",
    "        return 0"
   ]
  },
  {
   "cell_type": "code",
   "execution_count": 17,
   "metadata": {},
   "outputs": [],
   "source": [
    "\n",
    "from scipy.stats import skew\n",
    "joint2 = pd.concat([train_set, test_set], axis=0)\n",
    "joint2['plus']=joint2['n_features']*joint2['n_samples']*joint2['max_iter']*joint2['n_classes']/joint2['n_jobs']\n",
    "joint2['smaple']=joint2['n_samples'].apply(sample)\n",
    "# Fix for skewness\n",
    "\n",
    "\n"
   ]
  },
  {
   "cell_type": "code",
   "execution_count": 18,
   "metadata": {},
   "outputs": [],
   "source": [
    "#data['feature_1'] = data['max_iter'] * data['n_samples'] * data['n_features'] * data['n_classes'] / data['n_jobs']\n",
    "train_set = joint2.head(train_set.shape[0])\n",
    "test_set= joint2.tail(test_set.shape[0])\n"
   ]
  },
  {
   "cell_type": "code",
   "execution_count": 19,
   "metadata": {
    "scrolled": true
   },
   "outputs": [
    {
     "name": "stderr",
     "output_type": "stream",
     "text": [
      "C:\\Users\\Ashley\\Anaconda3\\envs\\tensorflow\\lib\\site-packages\\ipykernel_launcher.py:5: SettingWithCopyWarning: \n",
      "A value is trying to be set on a copy of a slice from a DataFrame.\n",
      "Try using .loc[row_indexer,col_indexer] = value instead\n",
      "\n",
      "See the caveats in the documentation: http://pandas.pydata.org/pandas-docs/stable/indexing.html#indexing-view-versus-copy\n",
      "  \"\"\"\n",
      "C:\\Users\\Ashley\\Anaconda3\\envs\\tensorflow\\lib\\site-packages\\ipykernel_launcher.py:6: SettingWithCopyWarning: \n",
      "A value is trying to be set on a copy of a slice from a DataFrame.\n",
      "Try using .loc[row_indexer,col_indexer] = value instead\n",
      "\n",
      "See the caveats in the documentation: http://pandas.pydata.org/pandas-docs/stable/indexing.html#indexing-view-versus-copy\n",
      "  \n"
     ]
    }
   ],
   "source": [
    "cat2=[ 'alpha', 'max_iter', 'n_jobs', 'n_samples', 'n_features',\n",
    "       'n_classes', 'n_clusters_per_class', 'flip_y', 'scale', 'plus',\n",
    "       'smaple']\n",
    "for feature in cat2:\n",
    "    train_set[feature] = (train_set[feature]-test_set[feature].min())/test_set[feature].std()\n",
    "    test_set[feature] = (test_set[feature]-test_set[feature].min())/test_set[feature].std()"
   ]
  },
  {
   "cell_type": "code",
   "execution_count": 20,
   "metadata": {},
   "outputs": [
    {
     "data": {
      "text/html": [
       "<div>\n",
       "<style scoped>\n",
       "    .dataframe tbody tr th:only-of-type {\n",
       "        vertical-align: middle;\n",
       "    }\n",
       "\n",
       "    .dataframe tbody tr th {\n",
       "        vertical-align: top;\n",
       "    }\n",
       "\n",
       "    .dataframe thead th {\n",
       "        text-align: right;\n",
       "    }\n",
       "</style>\n",
       "<table border=\"1\" class=\"dataframe\">\n",
       "  <thead>\n",
       "    <tr style=\"text-align: right;\">\n",
       "      <th></th>\n",
       "      <th>alpha</th>\n",
       "      <th>max_iter</th>\n",
       "      <th>n_jobs</th>\n",
       "      <th>n_samples</th>\n",
       "      <th>n_features</th>\n",
       "      <th>n_classes</th>\n",
       "      <th>n_clusters_per_class</th>\n",
       "      <th>flip_y</th>\n",
       "      <th>scale</th>\n",
       "      <th>plus</th>\n",
       "      <th>smaple</th>\n",
       "    </tr>\n",
       "  </thead>\n",
       "  <tbody>\n",
       "    <tr>\n",
       "      <th>count</th>\n",
       "      <td>100.000000</td>\n",
       "      <td>100.000000</td>\n",
       "      <td>100.000000</td>\n",
       "      <td>100.000000</td>\n",
       "      <td>100.000000</td>\n",
       "      <td>100.000000</td>\n",
       "      <td>100.000000</td>\n",
       "      <td>100.000000</td>\n",
       "      <td>100.000000</td>\n",
       "      <td>100.000000</td>\n",
       "      <td>100.000000</td>\n",
       "    </tr>\n",
       "    <tr>\n",
       "      <th>mean</th>\n",
       "      <td>0.751928</td>\n",
       "      <td>1.616678</td>\n",
       "      <td>1.075109</td>\n",
       "      <td>1.620211</td>\n",
       "      <td>1.787151</td>\n",
       "      <td>1.651253</td>\n",
       "      <td>1.208111</td>\n",
       "      <td>1.770415</td>\n",
       "      <td>1.902452</td>\n",
       "      <td>0.615129</td>\n",
       "      <td>1.450431</td>\n",
       "    </tr>\n",
       "    <tr>\n",
       "      <th>std</th>\n",
       "      <td>1.000000</td>\n",
       "      <td>1.000000</td>\n",
       "      <td>1.000000</td>\n",
       "      <td>1.000000</td>\n",
       "      <td>1.000000</td>\n",
       "      <td>1.000000</td>\n",
       "      <td>1.000000</td>\n",
       "      <td>1.000000</td>\n",
       "      <td>1.000000</td>\n",
       "      <td>1.000000</td>\n",
       "      <td>1.000000</td>\n",
       "    </tr>\n",
       "    <tr>\n",
       "      <th>min</th>\n",
       "      <td>0.000000</td>\n",
       "      <td>0.000000</td>\n",
       "      <td>0.000000</td>\n",
       "      <td>0.000000</td>\n",
       "      <td>0.000000</td>\n",
       "      <td>0.000000</td>\n",
       "      <td>0.000000</td>\n",
       "      <td>0.000000</td>\n",
       "      <td>0.000000</td>\n",
       "      <td>0.000000</td>\n",
       "      <td>0.000000</td>\n",
       "    </tr>\n",
       "    <tr>\n",
       "      <th>25%</th>\n",
       "      <td>0.000000</td>\n",
       "      <td>0.743273</td>\n",
       "      <td>0.163390</td>\n",
       "      <td>0.704323</td>\n",
       "      <td>0.965732</td>\n",
       "      <td>0.799638</td>\n",
       "      <td>0.000000</td>\n",
       "      <td>1.064694</td>\n",
       "      <td>1.015311</td>\n",
       "      <td>0.061153</td>\n",
       "      <td>0.000000</td>\n",
       "    </tr>\n",
       "    <tr>\n",
       "      <th>50%</th>\n",
       "      <td>0.206008</td>\n",
       "      <td>1.518343</td>\n",
       "      <td>0.490171</td>\n",
       "      <td>1.574268</td>\n",
       "      <td>1.845790</td>\n",
       "      <td>1.599276</td>\n",
       "      <td>0.881833</td>\n",
       "      <td>1.750543</td>\n",
       "      <td>2.103867</td>\n",
       "      <td>0.251577</td>\n",
       "      <td>2.132987</td>\n",
       "    </tr>\n",
       "    <tr>\n",
       "      <th>75%</th>\n",
       "      <td>2.266085</td>\n",
       "      <td>2.482213</td>\n",
       "      <td>2.450857</td>\n",
       "      <td>2.542120</td>\n",
       "      <td>2.576395</td>\n",
       "      <td>2.398915</td>\n",
       "      <td>1.763666</td>\n",
       "      <td>2.586923</td>\n",
       "      <td>2.648579</td>\n",
       "      <td>0.692241</td>\n",
       "      <td>2.132987</td>\n",
       "    </tr>\n",
       "    <tr>\n",
       "      <th>max</th>\n",
       "      <td>2.266085</td>\n",
       "      <td>3.493779</td>\n",
       "      <td>2.450857</td>\n",
       "      <td>3.238248</td>\n",
       "      <td>3.512617</td>\n",
       "      <td>3.198553</td>\n",
       "      <td>2.645499</td>\n",
       "      <td>3.378656</td>\n",
       "      <td>3.841254</td>\n",
       "      <td>6.119190</td>\n",
       "      <td>2.132987</td>\n",
       "    </tr>\n",
       "  </tbody>\n",
       "</table>\n",
       "</div>"
      ],
      "text/plain": [
       "            alpha    max_iter      n_jobs   n_samples  n_features   n_classes  \\\n",
       "count  100.000000  100.000000  100.000000  100.000000  100.000000  100.000000   \n",
       "mean     0.751928    1.616678    1.075109    1.620211    1.787151    1.651253   \n",
       "std      1.000000    1.000000    1.000000    1.000000    1.000000    1.000000   \n",
       "min      0.000000    0.000000    0.000000    0.000000    0.000000    0.000000   \n",
       "25%      0.000000    0.743273    0.163390    0.704323    0.965732    0.799638   \n",
       "50%      0.206008    1.518343    0.490171    1.574268    1.845790    1.599276   \n",
       "75%      2.266085    2.482213    2.450857    2.542120    2.576395    2.398915   \n",
       "max      2.266085    3.493779    2.450857    3.238248    3.512617    3.198553   \n",
       "\n",
       "       n_clusters_per_class      flip_y       scale        plus      smaple  \n",
       "count            100.000000  100.000000  100.000000  100.000000  100.000000  \n",
       "mean               1.208111    1.770415    1.902452    0.615129    1.450431  \n",
       "std                1.000000    1.000000    1.000000    1.000000    1.000000  \n",
       "min                0.000000    0.000000    0.000000    0.000000    0.000000  \n",
       "25%                0.000000    1.064694    1.015311    0.061153    0.000000  \n",
       "50%                0.881833    1.750543    2.103867    0.251577    2.132987  \n",
       "75%                1.763666    2.586923    2.648579    0.692241    2.132987  \n",
       "max                2.645499    3.378656    3.841254    6.119190    2.132987  "
      ]
     },
     "execution_count": 20,
     "metadata": {},
     "output_type": "execute_result"
    }
   ],
   "source": [
    "test_set.describe()"
   ]
  },
  {
   "cell_type": "markdown",
   "metadata": {},
   "source": [
    "# dummy"
   ]
  },
  {
   "cell_type": "code",
   "execution_count": 21,
   "metadata": {
    "scrolled": true
   },
   "outputs": [],
   "source": [
    "joint = pd.concat([train_set, test_set], axis=0)\n",
    "cat= joint.select_dtypes(include=['object']).axes[1]\n",
    "for col in cat:\n",
    "    joint = pd.concat([joint, pd.get_dummies(joint[col], prefix=col, prefix_sep=':')], axis=1)\n",
    "    joint.drop(col, axis=1, inplace=True)\n",
    "train_dum = joint.head(train_set.shape[0])\n",
    "test_dum= joint.tail(test_set.shape[0])"
   ]
  },
  {
   "cell_type": "markdown",
   "metadata": {},
   "source": [
    "# 数据标准"
   ]
  },
  {
   "cell_type": "code",
   "execution_count": 22,
   "metadata": {
    "scrolled": true
   },
   "outputs": [
    {
     "data": {
      "text/plain": [
       "'\\npca=PCA(n_components=10)\\ntrain_dum=pca.fit_transform(train_dum)\\ntest_dum=pca.transform(test_dum)\\n'"
      ]
     },
     "execution_count": 22,
     "metadata": {},
     "output_type": "execute_result"
    },
    {
     "name": "stderr",
     "output_type": "stream",
     "text": [
      "C:\\Users\\Ashley\\Anaconda3\\envs\\tensorflow\\lib\\site-packages\\sklearn\\preprocessing\\data.py:617: DataConversionWarning: Data with input dtype uint8, float64 were all converted to float64 by StandardScaler.\n",
      "  return self.partial_fit(X, y)\n"
     ]
    },
    {
     "data": {
      "text/plain": [
       "StandardScaler(copy=True, with_mean=True, with_std=True)"
      ]
     },
     "execution_count": 22,
     "metadata": {},
     "output_type": "execute_result"
    },
    {
     "name": "stderr",
     "output_type": "stream",
     "text": [
      "C:\\Users\\Ashley\\Anaconda3\\envs\\tensorflow\\lib\\site-packages\\ipykernel_launcher.py:10: DataConversionWarning: Data with input dtype uint8, float64 were all converted to float64 by StandardScaler.\n",
      "  # Remove the CWD from sys.path while we load stuff.\n",
      "C:\\Users\\Ashley\\Anaconda3\\envs\\tensorflow\\lib\\site-packages\\ipykernel_launcher.py:11: DataConversionWarning: Data with input dtype uint8, float64 were all converted to float64 by StandardScaler.\n",
      "  # This is added back by InteractiveShellApp.init_path()\n"
     ]
    }
   ],
   "source": [
    "from sklearn.decomposition import PCA\n",
    "'''\n",
    "pca=PCA(n_components=10)\n",
    "train_dum=pca.fit_transform(train_dum)\n",
    "test_dum=pca.transform(test_dum)\n",
    "'''\n",
    "####standardize the numerical features\n",
    "scaler = StandardScaler()\n",
    "scaler.fit(train_dum)\n",
    "train_dum= scaler.transform(train_dum)\n",
    "test_dum= scaler.transform(test_dum)"
   ]
  },
  {
   "cell_type": "markdown",
   "metadata": {},
   "source": [
    "# 模型选择"
   ]
  },
  {
   "cell_type": "code",
   "execution_count": 23,
   "metadata": {},
   "outputs": [
    {
     "name": "stderr",
     "output_type": "stream",
     "text": [
      "Using TensorFlow backend.\n"
     ]
    }
   ],
   "source": [
    "from keras import models\n",
    "from keras import layers\n",
    "def build_model():\n",
    "    '''\n",
    "   \n",
    "    '''\n",
    "    model = models.Sequential()\n",
    "    model.add(layers.Dense(25, activation='relu', input_shape=(train_dum.shape[1],)))\n",
    "   # model.add(layers.Dense(500,activation='relu'))\n",
    "    #model.add(layers.Dense(200,activation='relu'))\n",
    "   # model.add(layers.Dense(100,activation='relu'))\n",
    "   # model.add(layers.Dense(64,activation='relu'))\n",
    "    model.add(layers.Dense(25,activation='relu'))\n",
    "    model.add(layers.Dense(1,activation='relu'))\n",
    "    model.compile(optimizer='rmsprop', loss='mse', metrics=['mae'])\n",
    "    return model\n"
   ]
  },
  {
   "cell_type": "markdown",
   "metadata": {},
   "source": [
    "# cross validation of NN"
   ]
  },
  {
   "cell_type": "code",
   "execution_count": 24,
   "metadata": {},
   "outputs": [
    {
     "name": "stdout",
     "output_type": "stream",
     "text": [
      "processing fold # 0\n",
      "build model\n"
     ]
    },
    {
     "data": {
      "text/plain": [
       "<keras.callbacks.History at 0x10f17a266d8>"
      ]
     },
     "execution_count": 24,
     "metadata": {},
     "output_type": "execute_result"
    },
    {
     "name": "stdout",
     "output_type": "stream",
     "text": [
      "evaluate the model\n",
      "processing fold # 1\n",
      "build model\n"
     ]
    },
    {
     "data": {
      "text/plain": [
       "<keras.callbacks.History at 0x10f18dadeb8>"
      ]
     },
     "execution_count": 24,
     "metadata": {},
     "output_type": "execute_result"
    },
    {
     "name": "stdout",
     "output_type": "stream",
     "text": [
      "evaluate the model\n",
      "processing fold # 2\n",
      "build model\n"
     ]
    },
    {
     "data": {
      "text/plain": [
       "<keras.callbacks.History at 0x10f18fef748>"
      ]
     },
     "execution_count": 24,
     "metadata": {},
     "output_type": "execute_result"
    },
    {
     "name": "stdout",
     "output_type": "stream",
     "text": [
      "evaluate the model\n",
      "processing fold # 3\n",
      "build model\n"
     ]
    },
    {
     "data": {
      "text/plain": [
       "<keras.callbacks.History at 0x10f1926c358>"
      ]
     },
     "execution_count": 24,
     "metadata": {},
     "output_type": "execute_result"
    },
    {
     "name": "stdout",
     "output_type": "stream",
     "text": [
      "evaluate the model\n",
      "[1.8941252136230469, 6.550073728561402, 4.9384609842300415, 2.776413917541504]\n"
     ]
    }
   ],
   "source": [
    "import numpy as np\n",
    "k = 4\n",
    "num_val_samples = len(train_dum) // k #整数除法\n",
    "num_epochs =15\n",
    "all_scores = []\n",
    "for i in range(k):\n",
    "    print('processing fold #', i)\n",
    "    #依次把k分数据中的每一份作为校验数据集\n",
    "    val_data = train_dum[i * num_val_samples : (i+1) * num_val_samples]\n",
    "    val_targets = y[i* num_val_samples : (i+1) * num_val_samples]\n",
    "    \n",
    "    #把剩下的k-1分数据作为训练数据,如果第i分数据作为校验数据，那么把前i-1份和第i份之后的数据连起来\n",
    "    partial_train_data = np.concatenate([train_dum[: i * num_val_samples], \n",
    "                                         train_dum[(i+1) * num_val_samples:]], axis = 0)\n",
    "    partial_train_targets = np.concatenate([y[: i * num_val_samples], \n",
    "                                            y[(i+1) * num_val_samples: ]],\n",
    "                                          axis = 0)\n",
    "    print(\"build model\")\n",
    "    model = build_model()\n",
    "    #把分割好的训练数据和校验数据输入网络\n",
    "    model.fit(partial_train_data, partial_train_targets, epochs =30, \n",
    "              batch_size =16, verbose = 0)\n",
    "    print(\"evaluate the model\")\n",
    "    val_mse, val_mae = model.evaluate(val_data, val_targets, verbose = 0)\n",
    "    all_scores.append(val_mse)\n",
    "    \n",
    "print(all_scores)"
   ]
  },
  {
   "cell_type": "code",
   "execution_count": 25,
   "metadata": {},
   "outputs": [
    {
     "data": {
      "text/plain": [
       "<keras.callbacks.History at 0x10f179d4710>"
      ]
     },
     "execution_count": 25,
     "metadata": {},
     "output_type": "execute_result"
    }
   ],
   "source": [
    "model = build_model()\n",
    "model.fit(train_dum, y, epochs = 40, batch_size =20, verbose = 0)\n",
    "p1=model.predict(test_dum)\n",
    "p2=model.predict(train_dum)"
   ]
  },
  {
   "cell_type": "code",
   "execution_count": 51,
   "metadata": {
    "scrolled": false
   },
   "outputs": [
    {
     "data": {
      "text/plain": [
       "(array([72., 13.,  8.,  3.,  1.,  0.,  0.,  2.,  0.,  1.]),\n",
       " array([ 0.11538989,  4.2951347 ,  8.47487951, 12.65462432, 16.83436913,\n",
       "        21.01411394, 25.19385875, 29.37360355, 33.55334836, 37.73309317,\n",
       "        41.91283798]),\n",
       " <a list of 10 Patch objects>)"
      ]
     },
     "execution_count": 51,
     "metadata": {},
     "output_type": "execute_result"
    },
    {
     "data": {
      "image/png": "[encoded data removed]",
      "text/plain": [
       "<Figure size 432x288 with 1 Axes>"
      ]
     },
     "metadata": {},
     "output_type": "display_data"
    }
   ],
   "source": [
    "import matplotlib.pyplot as plt\n",
    "plt.hist(p11)\n",
    "\n",
    "plt.show()\n"
   ]
  },
  {
   "cell_type": "code",
   "execution_count": 26,
   "metadata": {},
   "outputs": [
    {
     "data": {
      "text/plain": [
       "1.687953876592128"
      ]
     },
     "execution_count": 26,
     "metadata": {},
     "output_type": "execute_result"
    }
   ],
   "source": [
    "from sklearn.metrics import mean_squared_error\n",
    "mse2=mean_squared_error(y, p2)\n",
    "mse2"
   ]
  },
  {
   "cell_type": "code",
   "execution_count": 44,
   "metadata": {},
   "outputs": [],
   "source": [
    "p11=np.expm1(p1)"
   ]
  },
  {
   "cell_type": "markdown",
   "metadata": {},
   "source": [
    "# 建模   \n"
   ]
  },
  {
   "cell_type": "code",
   "execution_count": 27,
   "metadata": {},
   "outputs": [],
   "source": [
    "submission=pd.DataFrame()\n",
    "submission['id']=ID\n",
    "submission['time']=p1\n",
    "submission.to_csv('keras1119f3.csv',index=False)"
   ]
  },
  {
   "cell_type": "markdown",
   "metadata": {},
   "source": [
    "# 控制变量法  KRR   +pca"
   ]
  },
  {
   "cell_type": "code",
   "execution_count": 28,
   "metadata": {},
   "outputs": [],
   "source": [
    "from sklearn.linear_model import ElasticNet, Lasso,  BayesianRidge, LassoLarsIC,RANSACRegressor\n",
    "from sklearn.ensemble import RandomForestRegressor,  GradientBoostingRegressor\n",
    "from sklearn.kernel_ridge import KernelRidge\n",
    "from sklearn.pipeline import make_pipeline\n",
    "from sklearn.preprocessing import RobustScaler\n",
    "from sklearn.base import BaseEstimator, TransformerMixin, RegressorMixin, clone\n",
    "from sklearn.model_selection import KFold, cross_val_score, train_test_split\n",
    "from sklearn.metrics import mean_squared_error\n",
    "\n",
    "import xgboost as xgb\n",
    "import lightgbm as lgb"
   ]
  },
  {
   "cell_type": "code",
   "execution_count": 29,
   "metadata": {},
   "outputs": [],
   "source": [
    "#Validation function\n",
    "n_folds = 5\n",
    "\n",
    "def rmsle_cv(model):\n",
    "    kf = KFold(n_folds, shuffle=True, random_state=True).get_n_splits(train_dum)\n",
    "    rmse= np.sqrt(-cross_val_score(model, train_dum, y, scoring=\"neg_mean_squared_error\", cv = kf))\n",
    "    return(rmse)"
   ]
  },
  {
   "cell_type": "code",
   "execution_count": 30,
   "metadata": {},
   "outputs": [],
   "source": [
    "from sklearn.svm import SVR\n",
    "import matplotlib.pyplot as plt\n",
    "lasso = make_pipeline(RobustScaler(), Lasso(alpha =0.5, random_state=1))\n",
    "\n",
    "ENet = make_pipeline(RobustScaler(), ElasticNet(alpha=0.5, l1_ratio=.9, random_state=3))\n",
    "\n",
    "KRR = KernelRidge(alpha=0.6, kernel='polynomial', degree=2, coef0=2.7)\n",
    "\n",
    "GBoost = GradientBoostingRegressor()\n",
    "\n",
    "model_xgb = xgb.XGBRegressor()\n",
    "\n",
    "model_lgb = lgb.LGBMRegressor(objective='regression')\n",
    "svr_rbf = SVR(kernel='rbf',C=1e1, gamma='auto')\n",
    "svr_lin = SVR(kernel='linear',gamma='scale')\n",
    "svr_poly = SVR(kernel='poly',degree=2,gamma='scale')\n",
    "\n",
    "bridge=BayesianRidge()\n",
    "icll=LassoLarsIC()\n",
    "\n",
    "rf=RandomForestRegressor(n_estimators=3)\n",
    "\n",
    "ra=RANSACRegressor()"
   ]
  },
  {
   "cell_type": "code",
   "execution_count": 31,
   "metadata": {
    "scrolled": true
   },
   "outputs": [
    {
     "name": "stdout",
     "output_type": "stream",
     "text": [
      "\n",
      "Lasso score: 3.2041 (0.8150)\n",
      "\n",
      "\n",
      "ENet score: 3.1881 (0.8011)\n",
      "\n",
      "\n",
      "KRR score: 1.2539 (0.4510)\n",
      "\n",
      "\n",
      "GBoost score: 2.2185 (1.0449)\n",
      "\n",
      "\n",
      "model_xgbt score: 2.2342 (0.8554)\n",
      "\n",
      "\n",
      "model_lgb score: 2.4121 (1.1857)\n",
      "\n",
      "\n",
      "rbf score: 1.7762 (0.9459)\n",
      "\n",
      "\n",
      "lin score: 3.5737 (1.0389)\n",
      "\n",
      "\n",
      "poly score: 4.4247 (1.2423)\n",
      "\n",
      "\bridge score: 2.8648 (1.0389)\n",
      "\n",
      "\\icll score: 2.9028 (1.2423)\n",
      "\n",
      "\\ rfscore: 2.5592 (1.2423)\n",
      "\n"
     ]
    }
   ],
   "source": [
    "score = rmsle_cv(lasso)\n",
    "print(\"\\nLasso score: {:.4f} ({:.4f})\\n\".format(score.mean(), score.std()))\n",
    "\n",
    "score = rmsle_cv(ENet)\n",
    "print(\"\\nENet score: {:.4f} ({:.4f})\\n\".format(score.mean(), score.std()))\n",
    "\n",
    "score = rmsle_cv(KRR)\n",
    "print(\"\\nKRR score: {:.4f} ({:.4f})\\n\".format(score.mean(), score.std()))\n",
    "\n",
    "score = rmsle_cv(GBoost)\n",
    "print(\"\\nGBoost score: {:.4f} ({:.4f})\\n\".format(score.mean(), score.std()))\n",
    "\n",
    "score = rmsle_cv(model_xgb)\n",
    "print(\"\\nmodel_xgbt score: {:.4f} ({:.4f})\\n\".format(score.mean(), score.std()))\n",
    "\n",
    "score = rmsle_cv(model_lgb)\n",
    "print(\"\\nmodel_lgb score: {:.4f} ({:.4f})\\n\".format(score.mean(), score.std()))\n",
    "\n",
    "score_rbf = rmsle_cv(svr_rbf)\n",
    "print(\"\\nrbf score: {:.4f} ({:.4f})\\n\".format(score_rbf.mean(), score_rbf.std()))\n",
    "score_lin=rmsle_cv(svr_lin)\n",
    "print(\"\\nlin score: {:.4f} ({:.4f})\\n\".format(score_lin.mean(), score_lin.std()))\n",
    "score_poly = rmsle_cv(svr_poly)\n",
    "print(\"\\npoly score: {:.4f} ({:.4f})\\n\".format(score_poly.mean(), score_poly.std()))\n",
    "\n",
    "score_br=rmsle_cv(bridge)\n",
    "print(\"\\bridge score: {:.4f} ({:.4f})\\n\".format(score_br.mean(), score_lin.std()))\n",
    "\n",
    "score_icll = rmsle_cv(icll)\n",
    "print(\"\\icll score: {:.4f} ({:.4f})\\n\".format(score_icll.mean(), score_poly.std()))\n",
    "\n",
    "score_rf= rmsle_cv(rf)\n",
    "print(\"\\ rfscore: {:.4f} ({:.4f})\\n\".format(score_rf.mean(), score_poly.std()))"
   ]
  },
  {
   "cell_type": "code",
   "execution_count": 32,
   "metadata": {},
   "outputs": [
    {
     "name": "stdout",
     "output_type": "stream",
     "text": [
      "0.379342441678924\n"
     ]
    }
   ],
   "source": [
    "from sklearn.metrics import mean_squared_error\n",
    "KRR = KernelRidge(alpha=0.6, kernel='polynomial', degree=2, coef0=2.7)\n",
    "model1=KRR.fit(train_dum,y)\n",
    "predictions =KRR.predict(train_dum)\n",
    "###accuracy of training set\n",
    "explogp22=np.expm1(predictions)\n",
    "\n",
    "explogp22[explogp22<0.07]=0.07\n",
    "mse =mean_squared_error(y, predictions)\n",
    "print(mse)\n",
    "\n",
    "\n",
    "\n",
    "p1=KRR.predict(test_dum)\n",
    "\n",
    "explogy=np.expm1(p1)\n",
    "\n",
    "explogy[explogy<0.07]=0.07\n",
    "p1[p1<0.07]=0.07\n",
    "submission=pd.DataFrame()\n",
    "submission['id']=ID\n",
    "submission['time']=p1\n",
    "submission.to_csv('keridge1119444.csv',index=False)"
   ]
  },
  {
   "cell_type": "code",
   "execution_count": null,
   "metadata": {},
   "outputs": [],
   "source": []
  }
 ],
 "metadata": {
  "kernelspec": {
   "display_name": "Python 3",
   "language": "python",
   "name": "python3"
  },
  "language_info": {
   "codemirror_mode": {
    "name": "ipython",
    "version": 3
   },
   "file_extension": ".py",
   "mimetype": "text/x-python",
   "name": "python",
   "nbconvert_exporter": "python",
   "pygments_lexer": "ipython3",
   "version": "3.5.6"
  },
  "varInspector": {
   "cols": {
    "lenName": 16,
    "lenType": 16,
    "lenVar": 40
   },
   "kernels_config": {
    "python": {
     "delete_cmd_postfix": "",
     "delete_cmd_prefix": "del ",
     "library": "var_list.py",
     "varRefreshCmd": "print(var_dic_list())"
    },
    "r": {
     "delete_cmd_postfix": ") ",
     "delete_cmd_prefix": "rm(",
     "library": "var_list.r",
     "varRefreshCmd": "cat(var_dic_list()) "
    }
   },
   "oldHeight": 280.208666,
   "position": {
    "height": "301.542px",
    "left": "760.198px",
    "right": "20px",
    "top": "133.948px",
    "width": "352px"
   },
   "types_to_exclude": [
    "module",
    "function",
    "builtin_function_or_method",
    "instance",
    "_Feature"
   ],
   "varInspector_section_display": "block",
   "window_display": true
  }
 },
 "nbformat": 4,
 "nbformat_minor": 1
}
